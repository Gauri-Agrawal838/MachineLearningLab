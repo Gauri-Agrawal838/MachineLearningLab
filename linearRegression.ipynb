{
  "cells": [
    {
      "cell_type": "markdown",
      "metadata": {
        "id": "view-in-github",
        "colab_type": "text"
      },
      "source": [
        "<a href=\"https://colab.research.google.com/github/Gauri-Agrawal838/MachineLearningLab/blob/main/linearRegression.ipynb\" target=\"_parent\"><img src=\"https://colab.research.google.com/assets/colab-badge.svg\" alt=\"Open In Colab\"/></a>"
      ]
    },
    {
      "cell_type": "code",
      "execution_count": null,
      "metadata": {
        "id": "Y_cZ_WTHefTb"
      },
      "outputs": [],
      "source": [
        "import numpy as np\n",
        "import pandas as pd"
      ]
    },
    {
      "cell_type": "code",
      "execution_count": null,
      "metadata": {
        "colab": {
          "base_uri": "https://localhost:8080/"
        },
        "id": "ioiJQFQgiy3k",
        "outputId": "b226edcf-3a87-4989-fdd9-49e06cf1e847"
      },
      "outputs": [
        {
          "name": "stdout",
          "output_type": "stream",
          "text": [
            "Drive already mounted at /content/drive; to attempt to forcibly remount, call drive.mount(\"/content/drive\", force_remount=True).\n"
          ]
        }
      ],
      "source": [
        "from google.colab import drive\n",
        "drive.mount('/content/drive')"
      ]
    },
    {
      "cell_type": "code",
      "execution_count": null,
      "metadata": {
        "id": "FriOBukuj5hu"
      },
      "outputs": [],
      "source": [
        "series = pd.read_csv('/content/annual_csv.csv',index_col='Date')"
      ]
    },
    {
      "cell_type": "code",
      "execution_count": null,
      "metadata": {
        "colab": {
          "base_uri": "https://localhost:8080/",
          "height": 455
        },
        "id": "xgYK-wpbljUU",
        "outputId": "de0d31e6-ff69-4e5b-810d-524dfae6733c"
      },
      "outputs": [
        {
          "data": {
            "text/html": [
              "\n",
              "  <div id=\"df-6e79676c-0fc6-48ac-919f-631cce00014e\">\n",
              "    <div class=\"colab-df-container\">\n",
              "      <div>\n",
              "<style scoped>\n",
              "    .dataframe tbody tr th:only-of-type {\n",
              "        vertical-align: middle;\n",
              "    }\n",
              "\n",
              "    .dataframe tbody tr th {\n",
              "        vertical-align: top;\n",
              "    }\n",
              "\n",
              "    .dataframe thead th {\n",
              "        text-align: right;\n",
              "    }\n",
              "</style>\n",
              "<table border=\"1\" class=\"dataframe\">\n",
              "  <thead>\n",
              "    <tr style=\"text-align: right;\">\n",
              "      <th></th>\n",
              "      <th>Price</th>\n",
              "    </tr>\n",
              "    <tr>\n",
              "      <th>Date</th>\n",
              "      <th></th>\n",
              "    </tr>\n",
              "  </thead>\n",
              "  <tbody>\n",
              "    <tr>\n",
              "      <th>1950-12</th>\n",
              "      <td>34.720</td>\n",
              "    </tr>\n",
              "    <tr>\n",
              "      <th>1951-12</th>\n",
              "      <td>34.660</td>\n",
              "    </tr>\n",
              "    <tr>\n",
              "      <th>1952-12</th>\n",
              "      <td>34.790</td>\n",
              "    </tr>\n",
              "    <tr>\n",
              "      <th>1953-12</th>\n",
              "      <td>34.850</td>\n",
              "    </tr>\n",
              "    <tr>\n",
              "      <th>1954-12</th>\n",
              "      <td>35.040</td>\n",
              "    </tr>\n",
              "    <tr>\n",
              "      <th>...</th>\n",
              "      <td>...</td>\n",
              "    </tr>\n",
              "    <tr>\n",
              "      <th>2010-12</th>\n",
              "      <td>1393.512</td>\n",
              "    </tr>\n",
              "    <tr>\n",
              "      <th>2011-12</th>\n",
              "      <td>1652.725</td>\n",
              "    </tr>\n",
              "    <tr>\n",
              "      <th>2012-12</th>\n",
              "      <td>1687.342</td>\n",
              "    </tr>\n",
              "    <tr>\n",
              "      <th>2013-12</th>\n",
              "      <td>1221.588</td>\n",
              "    </tr>\n",
              "    <tr>\n",
              "      <th>2014-12</th>\n",
              "      <td>1200.440</td>\n",
              "    </tr>\n",
              "  </tbody>\n",
              "</table>\n",
              "<p>65 rows × 1 columns</p>\n",
              "</div>\n",
              "      <button class=\"colab-df-convert\" onclick=\"convertToInteractive('df-6e79676c-0fc6-48ac-919f-631cce00014e')\"\n",
              "              title=\"Convert this dataframe to an interactive table.\"\n",
              "              style=\"display:none;\">\n",
              "        \n",
              "  <svg xmlns=\"http://www.w3.org/2000/svg\" height=\"24px\"viewBox=\"0 0 24 24\"\n",
              "       width=\"24px\">\n",
              "    <path d=\"M0 0h24v24H0V0z\" fill=\"none\"/>\n",
              "    <path d=\"M18.56 5.44l.94 2.06.94-2.06 2.06-.94-2.06-.94-.94-2.06-.94 2.06-2.06.94zm-11 1L8.5 8.5l.94-2.06 2.06-.94-2.06-.94L8.5 2.5l-.94 2.06-2.06.94zm10 10l.94 2.06.94-2.06 2.06-.94-2.06-.94-.94-2.06-.94 2.06-2.06.94z\"/><path d=\"M17.41 7.96l-1.37-1.37c-.4-.4-.92-.59-1.43-.59-.52 0-1.04.2-1.43.59L10.3 9.45l-7.72 7.72c-.78.78-.78 2.05 0 2.83L4 21.41c.39.39.9.59 1.41.59.51 0 1.02-.2 1.41-.59l7.78-7.78 2.81-2.81c.8-.78.8-2.07 0-2.86zM5.41 20L4 18.59l7.72-7.72 1.47 1.35L5.41 20z\"/>\n",
              "  </svg>\n",
              "      </button>\n",
              "      \n",
              "  <style>\n",
              "    .colab-df-container {\n",
              "      display:flex;\n",
              "      flex-wrap:wrap;\n",
              "      gap: 12px;\n",
              "    }\n",
              "\n",
              "    .colab-df-convert {\n",
              "      background-color: #E8F0FE;\n",
              "      border: none;\n",
              "      border-radius: 50%;\n",
              "      cursor: pointer;\n",
              "      display: none;\n",
              "      fill: #1967D2;\n",
              "      height: 32px;\n",
              "      padding: 0 0 0 0;\n",
              "      width: 32px;\n",
              "    }\n",
              "\n",
              "    .colab-df-convert:hover {\n",
              "      background-color: #E2EBFA;\n",
              "      box-shadow: 0px 1px 2px rgba(60, 64, 67, 0.3), 0px 1px 3px 1px rgba(60, 64, 67, 0.15);\n",
              "      fill: #174EA6;\n",
              "    }\n",
              "\n",
              "    [theme=dark] .colab-df-convert {\n",
              "      background-color: #3B4455;\n",
              "      fill: #D2E3FC;\n",
              "    }\n",
              "\n",
              "    [theme=dark] .colab-df-convert:hover {\n",
              "      background-color: #434B5C;\n",
              "      box-shadow: 0px 1px 3px 1px rgba(0, 0, 0, 0.15);\n",
              "      filter: drop-shadow(0px 1px 2px rgba(0, 0, 0, 0.3));\n",
              "      fill: #FFFFFF;\n",
              "    }\n",
              "  </style>\n",
              "\n",
              "      <script>\n",
              "        const buttonEl =\n",
              "          document.querySelector('#df-6e79676c-0fc6-48ac-919f-631cce00014e button.colab-df-convert');\n",
              "        buttonEl.style.display =\n",
              "          google.colab.kernel.accessAllowed ? 'block' : 'none';\n",
              "\n",
              "        async function convertToInteractive(key) {\n",
              "          const element = document.querySelector('#df-6e79676c-0fc6-48ac-919f-631cce00014e');\n",
              "          const dataTable =\n",
              "            await google.colab.kernel.invokeFunction('convertToInteractive',\n",
              "                                                     [key], {});\n",
              "          if (!dataTable) return;\n",
              "\n",
              "          const docLinkHtml = 'Like what you see? Visit the ' +\n",
              "            '<a target=\"_blank\" href=https://colab.research.google.com/notebooks/data_table.ipynb>data table notebook</a>'\n",
              "            + ' to learn more about interactive tables.';\n",
              "          element.innerHTML = '';\n",
              "          dataTable['output_type'] = 'display_data';\n",
              "          await google.colab.output.renderOutput(dataTable, element);\n",
              "          const docLink = document.createElement('div');\n",
              "          docLink.innerHTML = docLinkHtml;\n",
              "          element.appendChild(docLink);\n",
              "        }\n",
              "      </script>\n",
              "    </div>\n",
              "  </div>\n",
              "  "
            ],
            "text/plain": [
              "            Price\n",
              "Date             \n",
              "1950-12    34.720\n",
              "1951-12    34.660\n",
              "1952-12    34.790\n",
              "1953-12    34.850\n",
              "1954-12    35.040\n",
              "...           ...\n",
              "2010-12  1393.512\n",
              "2011-12  1652.725\n",
              "2012-12  1687.342\n",
              "2013-12  1221.588\n",
              "2014-12  1200.440\n",
              "\n",
              "[65 rows x 1 columns]"
            ]
          },
          "execution_count": 6,
          "metadata": {},
          "output_type": "execute_result"
        }
      ],
      "source": [
        "series.head(-5)"
      ]
    },
    {
      "cell_type": "code",
      "execution_count": null,
      "metadata": {
        "colab": {
          "base_uri": "https://localhost:8080/"
        },
        "id": "MPfXyZU0mor9",
        "outputId": "1c0d775d-f13d-4833-c67f-425a327e8130"
      },
      "outputs": [
        {
          "name": "stdout",
          "output_type": "stream",
          "text": [
            "52 18\n"
          ]
        }
      ],
      "source": [
        "trainingSize= int(len(series)*0.75)\n",
        "testingSize = len(series)- trainingSize\n",
        "print(trainingSize, testingSize)"
      ]
    },
    {
      "cell_type": "code",
      "execution_count": null,
      "metadata": {
        "colab": {
          "base_uri": "https://localhost:8080/"
        },
        "id": "IJho9vJwpWF4",
        "outputId": "063a87ac-6047-456d-9cb7-2294dcd31054"
      },
      "outputs": [
        {
          "name": "stdout",
          "output_type": "stream",
          "text": [
            "           Price\n",
            "Date            \n",
            "1950-12   34.720\n",
            "1951-12   34.660\n",
            "1952-12   34.790\n",
            "1953-12   34.850\n",
            "1954-12   35.040\n",
            "1955-12   34.970\n",
            "1956-12   34.900\n",
            "1957-12   34.990\n",
            "1958-12   35.090\n",
            "1959-12   35.050\n",
            "1960-12   35.540\n",
            "1961-12   35.150\n",
            "1962-12   35.080\n",
            "1963-12   35.080\n",
            "1964-12   35.120\n",
            "1965-12   35.130\n",
            "1966-12   35.180\n",
            "1967-12   35.190\n",
            "1968-12   41.113\n",
            "1969-12   35.189\n",
            "1970-12   37.434\n",
            "1971-12   43.455\n",
            "1972-12   63.779\n",
            "1973-12  106.236\n",
            "1974-12  183.683\n",
            "1975-12  139.279\n",
            "1976-12  133.674\n",
            "1977-12  160.480\n",
            "1978-12  207.895\n",
            "1979-12  463.666\n",
            "1980-12  596.712\n",
            "1981-12  410.119\n",
            "1982-12  444.776\n",
            "1983-12  388.060\n",
            "1984-12  319.622\n",
            "1985-12  321.985\n",
            "1986-12  391.595\n",
            "1987-12  487.079\n",
            "1988-12  419.248\n",
            "1989-12  409.655\n",
            "1990-12  378.161\n",
            "1991-12  361.875\n",
            "1992-12  334.657\n",
            "1993-12  383.243\n",
            "1994-12  379.480\n",
            "1995-12  387.445\n",
            "1996-12  369.338\n",
            "1997-12  288.776\n",
            "1998-12  291.357\n",
            "1999-12  283.743\n",
            "2000-12  271.892\n",
            "2001-12  275.992             Price\n",
            "Date             \n",
            "2002-12   333.300\n",
            "2003-12   407.674\n",
            "2004-12   442.974\n",
            "2005-12   509.423\n",
            "2006-12   629.513\n",
            "2007-12   803.618\n",
            "2008-12   819.940\n",
            "2009-12  1135.012\n",
            "2010-12  1393.512\n",
            "2011-12  1652.725\n",
            "2012-12  1687.342\n",
            "2013-12  1221.588\n",
            "2014-12  1200.440\n",
            "2015-12  1068.317\n",
            "2016-12  1152.165\n",
            "2017-12  1265.674\n",
            "2018-12  1249.887\n",
            "2019-12  1480.025\n"
          ]
        }
      ],
      "source": [
        "train,test = series[:trainingSize],series[trainingSize:]\n",
        "print(train, test)"
      ]
    },
    {
      "cell_type": "code",
      "execution_count": null,
      "metadata": {
        "id": "GilbEM5DeHXk"
      },
      "outputs": [],
      "source": [
        "def create_dataset(dataset, time_step=3): \n",
        "  Xs, Ys=[],[] \n",
        "  for i in range(len(dataset)-time_step): \n",
        "    v=dataset.iloc[i:(i+time_step)].values \n",
        "    Xs.append(v) \n",
        "    Ys.append(dataset['Price'].iloc[i+time_step]) \n",
        "    return np.array(Xs), np.array(Ys)"
      ]
    },
    {
      "cell_type": "code",
      "execution_count": null,
      "metadata": {
        "colab": {
          "base_uri": "https://localhost:8080/"
        },
        "id": "yZ6ukz6lekzA",
        "outputId": "f109592a-b488-464c-dd98-f930630c6f0b"
      },
      "outputs": [
        {
          "name": "stdout",
          "output_type": "stream",
          "text": [
            "(1, 3, 1) (1,)\n"
          ]
        }
      ],
      "source": [
        "time_step=3\n",
        "X_train, Y_train = create_dataset(train, time_step)\n",
        "X_test, Y_test= create_dataset(test,time_step)\n",
        "print(X_train.shape, Y_train.shape)"
      ]
    },
    {
      "cell_type": "code",
      "execution_count": null,
      "metadata": {
        "colab": {
          "base_uri": "https://localhost:8080/"
        },
        "id": "4j7rphb5vqDt",
        "outputId": "378e4f3b-2512-403e-9585-175f7ba91a8a"
      },
      "outputs": [
        {
          "name": "stdout",
          "output_type": "stream",
          "text": [
            "(1, 3)\n",
            "(1, 3)\n"
          ]
        }
      ],
      "source": [
        "X_tr=X_train.reshape(len(X_train),3)\n",
        "X_t = X_test.reshape(len(X_test),3)\n",
        "print(X_tr.shape)\n",
        "print(X_t.shape)"
      ]
    },
    {
      "cell_type": "code",
      "execution_count": null,
      "metadata": {
        "id": "9GErZRxY4NuI"
      },
      "outputs": [],
      "source": [
        "from sklearn.linear_model import LinearRegression\n",
        "from sklearn.metrics import mean_squared_error, r2_score\n",
        "perf_score=[]"
      ]
    },
    {
      "cell_type": "code",
      "execution_count": null,
      "metadata": {
        "id": "t_bdtUxu4uzD"
      },
      "outputs": [],
      "source": [
        "reg1 = LinearRegression()\n",
        "reg1.fit(X_tr, Y_train)\n",
        "Y_pred = reg1.predict(X_t)"
      ]
    },
    {
      "cell_type": "code",
      "execution_count": null,
      "metadata": {
        "colab": {
          "background_save": true,
          "base_uri": "https://localhost:8080/",
          "height": 183
        },
        "id": "ZoA_PR726q1J",
        "outputId": "345093fa-27fa-4b5e-b09f-c29c6813e4d0"
      },
      "outputs": [
        {
          "name": "stdout",
          "output_type": "stream",
          "text": [
            "474.573\n"
          ]
        }
      ],
      "source": [
        "rmse= np.sqrt(mean_squared_error(Y_test, Y_pred))\n",
        "print(rsme)"
      ]
    }
  ],
  "metadata": {
    "colab": {
      "provenance": [],
      "include_colab_link": true
    },
    "kernelspec": {
      "display_name": "Python 3",
      "name": "python3"
    },
    "language_info": {
      "name": "python"
    }
  },
  "nbformat": 4,
  "nbformat_minor": 0
}